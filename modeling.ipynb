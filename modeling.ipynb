{
 "cells": [
  {
   "cell_type": "markdown",
   "id": "55878781",
   "metadata": {},
   "source": [
    "# 00 Import Library"
   ]
  },
  {
   "cell_type": "code",
   "execution_count": 3,
   "id": "782eae7f",
   "metadata": {},
   "outputs": [],
   "source": [
    "import pandas as pd\n",
    "import numpy as np\n",
    "import re\n",
    "import unicodedata\n",
    "from nltk.tokenize import word_tokenize\n",
    "from nltk.corpus import stopwords\n",
    "from nltk import FreqDist\n",
    "\n",
    "# Stopword Removal & Stemming (Bahasa Indonesia)\n",
    "from Sastrawi.StopWordRemover.StopWordRemoverFactory import StopWordRemoverFactory\n",
    "from Sastrawi.Stemmer.StemmerFactory import StemmerFactory\n",
    "import stanza\n",
    "from wordcloud import WordCloud\n",
    "\n",
    "# Visualization\n",
    "import matplotlib.pyplot as plt\n",
    "import seaborn as sns\n",
    "\n",
    "# Word Embedding\n",
    "import gensim\n",
    "from gensim.models import Word2Vec, FastText\n",
    "from gensim.utils import simple_preprocess\n",
    "\n",
    "# Modeling\n",
    "from scipy import stats\n",
    "from numpy import dot\n",
    "from numpy.linalg import norm\n",
    "from ast import literal_eval\n",
    "from sklearn.metrics.pairwise import linear_kernel,cosine_similarity"
   ]
  },
  {
   "cell_type": "markdown",
   "id": "a7429dd9",
   "metadata": {},
   "source": [
    "# 01 Load Dataset"
   ]
  },
  {
   "cell_type": "code",
   "execution_count": 2,
   "id": "18cffb8d",
   "metadata": {},
   "outputs": [
    {
     "data": {
      "text/html": [
       "<div>\n",
       "<style scoped>\n",
       "    .dataframe tbody tr th:only-of-type {\n",
       "        vertical-align: middle;\n",
       "    }\n",
       "\n",
       "    .dataframe tbody tr th {\n",
       "        vertical-align: top;\n",
       "    }\n",
       "\n",
       "    .dataframe thead th {\n",
       "        text-align: right;\n",
       "    }\n",
       "</style>\n",
       "<table border=\"1\" class=\"dataframe\">\n",
       "  <thead>\n",
       "    <tr style=\"text-align: right;\">\n",
       "      <th></th>\n",
       "      <th>title</th>\n",
       "      <th>tokens</th>\n",
       "    </tr>\n",
       "  </thead>\n",
       "  <tbody>\n",
       "    <tr>\n",
       "      <th>0</th>\n",
       "      <td>data scientist, financial conglomerates superv...</td>\n",
       "      <td>['role', 'purpose', 'execute', 'suptech', 'dat...</td>\n",
       "    </tr>\n",
       "    <tr>\n",
       "      <th>1</th>\n",
       "      <td>data scientist</td>\n",
       "      <td>['job', 'description', 'responsibility', 'data...</td>\n",
       "    </tr>\n",
       "    <tr>\n",
       "      <th>2</th>\n",
       "      <td>data annotator</td>\n",
       "      <td>['job', 'description', 'key', 'responsibility'...</td>\n",
       "    </tr>\n",
       "    <tr>\n",
       "      <th>3</th>\n",
       "      <td>data scientist (artificial intelligence)</td>\n",
       "      <td>['join', 'dcap', 'dynamic', 'fastgrowing', 'te...</td>\n",
       "    </tr>\n",
       "    <tr>\n",
       "      <th>4</th>\n",
       "      <td>data scientist</td>\n",
       "      <td>['key', 'responsibility', 'data', 'exploration...</td>\n",
       "    </tr>\n",
       "    <tr>\n",
       "      <th>...</th>\n",
       "      <td>...</td>\n",
       "      <td>...</td>\n",
       "    </tr>\n",
       "    <tr>\n",
       "      <th>475</th>\n",
       "      <td>data scientist</td>\n",
       "      <td>['job', 'description', 'work', 'closely', 'int...</td>\n",
       "    </tr>\n",
       "    <tr>\n",
       "      <th>476</th>\n",
       "      <td>data scientist - pricing</td>\n",
       "      <td>['people', 'job', 'description', 'data', 'scie...</td>\n",
       "    </tr>\n",
       "    <tr>\n",
       "      <th>477</th>\n",
       "      <td>data analyst</td>\n",
       "      <td>['tugas', 'tanggung', 'jawab', 'mengumpulkan',...</td>\n",
       "    </tr>\n",
       "    <tr>\n",
       "      <th>478</th>\n",
       "      <td>data analyst – pricing staff</td>\n",
       "      <td>['key', 'responsibility', 'collect', 'process'...</td>\n",
       "    </tr>\n",
       "    <tr>\n",
       "      <th>479</th>\n",
       "      <td>data scientist (analytics)</td>\n",
       "      <td>['description', 'grab', 'workplace', 'grab', '...</td>\n",
       "    </tr>\n",
       "  </tbody>\n",
       "</table>\n",
       "<p>480 rows × 2 columns</p>\n",
       "</div>"
      ],
      "text/plain": [
       "                                                 title  \\\n",
       "0    data scientist, financial conglomerates superv...   \n",
       "1                                       data scientist   \n",
       "2                                       data annotator   \n",
       "3             data scientist (artificial intelligence)   \n",
       "4                                       data scientist   \n",
       "..                                                 ...   \n",
       "475                                     data scientist   \n",
       "476                           data scientist - pricing   \n",
       "477                                       data analyst   \n",
       "478                       data analyst – pricing staff   \n",
       "479                         data scientist (analytics)   \n",
       "\n",
       "                                                tokens  \n",
       "0    ['role', 'purpose', 'execute', 'suptech', 'dat...  \n",
       "1    ['job', 'description', 'responsibility', 'data...  \n",
       "2    ['job', 'description', 'key', 'responsibility'...  \n",
       "3    ['join', 'dcap', 'dynamic', 'fastgrowing', 'te...  \n",
       "4    ['key', 'responsibility', 'data', 'exploration...  \n",
       "..                                                 ...  \n",
       "475  ['job', 'description', 'work', 'closely', 'int...  \n",
       "476  ['people', 'job', 'description', 'data', 'scie...  \n",
       "477  ['tugas', 'tanggung', 'jawab', 'mengumpulkan',...  \n",
       "478  ['key', 'responsibility', 'collect', 'process'...  \n",
       "479  ['description', 'grab', 'workplace', 'grab', '...  \n",
       "\n",
       "[480 rows x 2 columns]"
      ]
     },
     "execution_count": 2,
     "metadata": {},
     "output_type": "execute_result"
    }
   ],
   "source": [
    "df = pd.read_csv('cleaned_jobstreet.csv')\n",
    "df"
   ]
  },
  {
   "cell_type": "markdown",
   "id": "3da602b4",
   "metadata": {},
   "source": [
    "# 02 Vektorisasi teks"
   ]
  },
  {
   "cell_type": "markdown",
   "id": "7ccb72ee",
   "metadata": {},
   "source": [
    "## a. Word2Vec"
   ]
  },
  {
   "cell_type": "code",
   "execution_count": null,
   "id": "295bb305",
   "metadata": {},
   "outputs": [],
   "source": [
    "all_sentences = pd.concat([df[\"tokens\"], df_kunci[\"tokens\"]], ignore_index=True).tolist()\n",
    "\n",
    "# Word2Vec (CBOW default)\n",
    "w2v_model = Word2Vec(sentences=all_sentences, vector_size=100, window=7, min_count=1, workers=4)\n",
    "\n",
    "def sentence_vector(tokens, model):\n",
    "    vectors = [model.wv[word] for word in tokens if word in model.wv]\n",
    "    return np.mean(vectors, axis=0) if vectors else np.zeros(model.vector_size)\n",
    "\n",
    "# Hitung vektor kalimat\n",
    "df[\"w2v_vec\"] = df[\"tokens\"].apply(lambda x: sentence_vector(x, w2v_model))\n",
    "df_kunci[\"w2v_vec\"] = df_kunci[\"tokens\"].apply(lambda x: sentence_vector(x, w2v_model))\n"
   ]
  },
  {
   "cell_type": "code",
   "execution_count": null,
   "id": "53dec599",
   "metadata": {},
   "outputs": [],
   "source": []
  },
  {
   "cell_type": "markdown",
   "id": "79ee73ad",
   "metadata": {},
   "source": [
    "## b. FastText"
   ]
  },
  {
   "cell_type": "code",
   "execution_count": null,
   "id": "da56a03e",
   "metadata": {},
   "outputs": [],
   "source": []
  },
  {
   "cell_type": "code",
   "execution_count": null,
   "id": "233513eb",
   "metadata": {},
   "outputs": [],
   "source": []
  },
  {
   "cell_type": "markdown",
   "id": "25b6da85",
   "metadata": {},
   "source": [
    "# 03 Labelling & Similarity Mapping"
   ]
  },
  {
   "cell_type": "code",
   "execution_count": null,
   "id": "1314e02d",
   "metadata": {},
   "outputs": [],
   "source": []
  },
  {
   "cell_type": "code",
   "execution_count": null,
   "id": "9b7fea50",
   "metadata": {},
   "outputs": [],
   "source": []
  },
  {
   "cell_type": "markdown",
   "id": "8725fd00",
   "metadata": {},
   "source": [
    "# 04 Recommendation Modeling"
   ]
  },
  {
   "cell_type": "code",
   "execution_count": null,
   "id": "7d0cd07d",
   "metadata": {},
   "outputs": [],
   "source": []
  },
  {
   "cell_type": "code",
   "execution_count": null,
   "id": "6351d2bb",
   "metadata": {},
   "outputs": [],
   "source": []
  },
  {
   "cell_type": "code",
   "execution_count": null,
   "id": "03e8b467",
   "metadata": {},
   "outputs": [],
   "source": []
  },
  {
   "cell_type": "code",
   "execution_count": null,
   "id": "e5f2ae21",
   "metadata": {},
   "outputs": [],
   "source": []
  }
 ],
 "metadata": {
  "kernelspec": {
   "display_name": "base",
   "language": "python",
   "name": "python3"
  },
  "language_info": {
   "codemirror_mode": {
    "name": "ipython",
    "version": 3
   },
   "file_extension": ".py",
   "mimetype": "text/x-python",
   "name": "python",
   "nbconvert_exporter": "python",
   "pygments_lexer": "ipython3",
   "version": "3.9.13"
  }
 },
 "nbformat": 4,
 "nbformat_minor": 5
}
